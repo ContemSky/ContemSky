{
  "nbformat": 4,
  "nbformat_minor": 0,
  "metadata": {
    "colab": {
      "provenance": [],
      "authorship_tag": "ABX9TyP6viifp2Ezmw+8NVNASSS8",
      "include_colab_link": true
    },
    "kernelspec": {
      "name": "python3",
      "display_name": "Python 3"
    },
    "language_info": {
      "name": "python"
    }
  },
  "cells": [
    {
      "cell_type": "markdown",
      "metadata": {
        "id": "view-in-github",
        "colab_type": "text"
      },
      "source": [
        "<a href=\"https://colab.research.google.com/github/ContemSky/ContemSky/blob/main/Hackaton.ipynb\" target=\"_parent\"><img src=\"https://colab.research.google.com/assets/colab-badge.svg\" alt=\"Open In Colab\"/></a>"
      ]
    },
    {
      "cell_type": "code",
      "execution_count": null,
      "metadata": {
        "colab": {
          "base_uri": "https://localhost:8080/"
        },
        "id": "aQT4UwuE4DYc",
        "outputId": "8c2cfced-8e19-4462-cf4a-a47eb13f795a"
      },
      "outputs": [
        {
          "output_type": "stream",
          "name": "stdout",
          "text": [
            "Numero de pedidos:2200\n",
            "qual sera a unidade monetaria?:R$\n",
            "preço material um em R$:23\n",
            "preço material dois em R$:12\n",
            "preço material três em R$:43\n",
            "preço material quatro em R$:53\n",
            "Quantidade material 1 usado na fabricação de 1 unidade:12\n",
            "Unidade material um Exp: Kg, L, M :Kg\n",
            "Quantidade material 2 usado na fabricação de 1 unidade:43\n",
            "Unidade material dois Exp: Kg, L, M :L\n",
            "Quantidade material 3 usado na fabricação de 1 unidade:23\n",
            "Unidade material três Exp: Kg, L, M :M\n",
            "Quantidade material 4 usado na fabricação de 1 unidade:12\n",
            "Unidade material quatro Exp: Kg, L, M :Kg\n",
            "preço do produto:2417.0 R$\n",
            "preço de total da fabricação de  acordo com a demanda:5317400.0 R$\n",
            "Demanda extremamente alta\n",
            "Para sair Digite 3, para gerar nota fiscal digite 2\n",
            "Escolha uma opção: 2\n",
            "---------Nota fiscal---------\n",
            "Numero de pedidos: 2200\n",
            "unidade monetaria escolhida: R$\n",
            "preço material 1: 23.0 R$\n",
            "preço material 2: 12.0 R$\n",
            "preço material 3: 43.0 R$\n",
            "preço material 4: 53.0 R$\n",
            "quantidade material 1: 12.0 Kg\n",
            "quantidade material 2: 43.0 L\n",
            "quantidade material 3: 23.0 M\n",
            "quantidade material 4: 12.0 Kg\n",
            "preço da unidade: 2417.0 R$\n",
            "preço total de fabricação: 5317400.0 R$\n",
            "-----------------------------\n",
            "Para sair Digite 3, para gerar nota fiscal digite 2\n"
          ]
        }
      ],
      "source": [
        "NP = int(input(\"Numero de pedidos:\"))\n",
        "\n",
        "UM = str(input(\"qual sera a unidade monetaria?:\"))\n",
        "\n",
        "Precomaterialum = float(input(\"preço material um em \" + UM + \":\"))\n",
        "precomaterialdois = float(input(\"preço material dois em \" + UM + \":\"))\n",
        "precomaterialtres = float(input(\"preço material três em \" + UM + \":\"))\n",
        "precomaterialquatro = float(input(\"preço material quatro em \" + UM + \":\"))\n",
        "\n",
        "quantidadematerialum = float(input(\"Quantidade material 1 usado na fabricação de 1 unidade:\"))\n",
        "unidadematerialum = str(input(\"Unidade material um Exp: Kg, L, M :\"))\n",
        "quantidadematerialdois = float(input(\"Quantidade material 2 usado na fabricação de 1 unidade:\"))\n",
        "unidadematerialdois = str(input(\"Unidade material dois Exp: Kg, L, M :\"))\n",
        "quantidadematerialtres = float(input(\"Quantidade material 3 usado na fabricação de 1 unidade:\"))\n",
        "unidadematerialtres = str(input(\"Unidade material três Exp: Kg, L, M :\"))\n",
        "quantidadematerialquatro = float(input(\"Quantidade material 4 usado na fabricação de 1 unidade:\"))\n",
        "unidadematerialquatro = str(input(\"Unidade material quatro Exp: Kg, L, M :\"))\n",
        "\n",
        "PP = (Precomaterialum * quantidadematerialum) + (precomaterialdois * quantidadematerialdois) + (precomaterialtres * quantidadematerialtres) + (precomaterialquatro * quantidadematerialquatro)\n",
        "\n",
        "print(\"preço do produto:\" + str(PP) + \" \" + UM)\n",
        "\n",
        "print(\"preço de total da fabricação de  acordo com a demanda:\" + str(PP * NP ) + \" \" + UM)\n",
        "\n",
        "if NP < 100:\n",
        "    print(\"Demanda baixíssima\")\n",
        "elif 100 <= NP < 200:\n",
        "    print(\"Demanda baixa\")\n",
        "elif 200 <= NP < 300:\n",
        "    print(\"Demanda baixa-média\")\n",
        "elif 300 <= NP < 400:\n",
        "    print(\"Demanda média\")\n",
        "elif 400 <= NP < 500:\n",
        "    print(\"Demanda normal\")\n",
        "elif 600 <= NP < 700:\n",
        "    print(\"Demanda normal-alta\")\n",
        "elif 700 <= NP < 800:\n",
        "    print(\"Demanda alta\")\n",
        "elif 800 <= NP < 900:\n",
        "    print(\"Demanda alta-muito alta\")\n",
        "elif 900 <= NP < 1000:\n",
        "    print(\"Demanda muito alta\")\n",
        "else:\n",
        "    print(\"Demanda extremamente alta\")\n",
        "# produta usa 2 Kg do material um 3 Kg do materia dois 1 Kg do material quatro e tres Kg do material tres\n",
        "def menu():\n",
        "    print(\"Para sair Digite 3, para gerar nota fiscal digite 2\")\n",
        "    escolha = input(\"Escolha uma opção: \")\n",
        "    return escolha\n",
        "\n",
        "while True:\n",
        "    escolha = menu()\n",
        "    if escolha == '3':\n",
        "        print(\"Saindo do programa...\")\n",
        "        break\n",
        "    elif escolha == '2':\n",
        "        print(\"---------Nota fiscal---------\")\n",
        "        print(\"Numero de pedidos: \" + str(NP))\n",
        "        print(\"unidade monetaria escolhida: \" + str(UM))\n",
        "        print(\"preço material 1: \" + str(Precomaterialum) + \" \" + str(UM))\n",
        "        print(\"preço material 2: \" + str(precomaterialdois) + \" \" + str(UM))\n",
        "        print(\"preço material 3: \" + str(precomaterialtres) + \" \" + str(UM))\n",
        "        print(\"preço material 4: \" + str(precomaterialquatro) + \" \" + str(UM))\n",
        "        print((\"quantidade material 1: \") + str(quantidadematerialum) + \" \" + str(unidadematerialum))\n",
        "        print((\"quantidade material 2: \") + str(quantidadematerialdois) + \" \" + str(unidadematerialdois))\n",
        "        print((\"quantidade material 3: \") + str(quantidadematerialtres) + \" \" + str(unidadematerialtres))\n",
        "        print((\"quantidade material 4: \") + str(quantidadematerialquatro) + \" \" + str(unidadematerialquatro))\n",
        "        print((\"preço da unidade: \") + str(PP) + \" \" + str(UM))\n",
        "        print((\"preço total de fabricação: \") + str(PP * NP) + \" \" + str(UM))\n",
        "        print(\"-----------------------------\")\n",
        "    else:\n",
        "        print(\"Opção inválida. Tente novamente.\")\n"
      ]
    },
    {
      "cell_type": "markdown",
      "source": [],
      "metadata": {
        "id": "tf5AvosgxV6E"
      }
    }
  ]
}